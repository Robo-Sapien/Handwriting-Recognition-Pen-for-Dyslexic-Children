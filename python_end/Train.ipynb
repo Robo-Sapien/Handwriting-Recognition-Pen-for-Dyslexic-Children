{
 "cells": [
  {
   "cell_type": "code",
   "execution_count": 433,
   "metadata": {
    "collapsed": true
   },
   "outputs": [],
   "source": [
    "import pandas as pd\n",
    "import numpy as np\n",
    "from scratch_net import *\n",
    "from scratch_net import model\n",
    "np.random.seed(1)\n",
    "import matplotlib.pyplot as plt"
   ]
  },
  {
   "cell_type": "markdown",
   "metadata": {},
   "source": [
    "# Reading Excel file"
   ]
  },
  {
   "cell_type": "code",
   "execution_count": 434,
   "metadata": {
    "collapsed": true,
    "scrolled": true
   },
   "outputs": [],
   "source": [
    "df=pd.read_excel(\"dataSet.xlsx\")"
   ]
  },
  {
   "cell_type": "code",
   "execution_count": 435,
   "metadata": {},
   "outputs": [
    {
     "data": {
      "text/html": [
       "<div>\n",
       "<style>\n",
       "    .dataframe thead tr:only-child th {\n",
       "        text-align: right;\n",
       "    }\n",
       "\n",
       "    .dataframe thead th {\n",
       "        text-align: left;\n",
       "    }\n",
       "\n",
       "    .dataframe tbody tr th {\n",
       "        vertical-align: top;\n",
       "    }\n",
       "</style>\n",
       "<table border=\"1\" class=\"dataframe\">\n",
       "  <thead>\n",
       "    <tr style=\"text-align: right;\">\n",
       "      <th></th>\n",
       "      <th>1</th>\n",
       "      <th>1.1</th>\n",
       "      <th>1.2</th>\n",
       "      <th>1.3</th>\n",
       "      <th>1.4</th>\n",
       "      <th>1.5</th>\n",
       "      <th>1.6</th>\n",
       "      <th>1.7</th>\n",
       "      <th>1.8</th>\n",
       "      <th>1.9</th>\n",
       "      <th>...</th>\n",
       "      <th>3.90</th>\n",
       "      <th>3.91</th>\n",
       "      <th>3.92</th>\n",
       "      <th>3.93</th>\n",
       "      <th>3.94</th>\n",
       "      <th>3.95</th>\n",
       "      <th>3.96</th>\n",
       "      <th>3.97</th>\n",
       "      <th>3.98</th>\n",
       "      <th>3.99</th>\n",
       "    </tr>\n",
       "  </thead>\n",
       "  <tbody>\n",
       "    <tr>\n",
       "      <th>0</th>\n",
       "      <td>44688.000000</td>\n",
       "      <td>57779.000000</td>\n",
       "      <td>53565.000000</td>\n",
       "      <td>61394.000000</td>\n",
       "      <td>56920.000000</td>\n",
       "      <td>75505.000000</td>\n",
       "      <td>51120.000000</td>\n",
       "      <td>56802.000000</td>\n",
       "      <td>66990.000000</td>\n",
       "      <td>61980.000000</td>\n",
       "      <td>...</td>\n",
       "      <td>38416.000000</td>\n",
       "      <td>50333.000000</td>\n",
       "      <td>52993.000000</td>\n",
       "      <td>47017.000000</td>\n",
       "      <td>54285.000000</td>\n",
       "      <td>54290.000000</td>\n",
       "      <td>53314.000000</td>\n",
       "      <td>49829.000000</td>\n",
       "      <td>59829.000000</td>\n",
       "      <td>48975.000000</td>\n",
       "    </tr>\n",
       "    <tr>\n",
       "      <th>1</th>\n",
       "      <td>-5.740679</td>\n",
       "      <td>-55.257567</td>\n",
       "      <td>-43.808065</td>\n",
       "      <td>-52.993126</td>\n",
       "      <td>-120.941165</td>\n",
       "      <td>-171.138239</td>\n",
       "      <td>-97.384354</td>\n",
       "      <td>-67.152625</td>\n",
       "      <td>-130.208055</td>\n",
       "      <td>-73.415064</td>\n",
       "      <td>...</td>\n",
       "      <td>-65.066760</td>\n",
       "      <td>-67.085928</td>\n",
       "      <td>-53.092426</td>\n",
       "      <td>-48.396327</td>\n",
       "      <td>-32.048649</td>\n",
       "      <td>-57.845401</td>\n",
       "      <td>-41.788340</td>\n",
       "      <td>5.421084</td>\n",
       "      <td>-53.063769</td>\n",
       "      <td>26.541787</td>\n",
       "    </tr>\n",
       "    <tr>\n",
       "      <th>2</th>\n",
       "      <td>10.422245</td>\n",
       "      <td>46.662824</td>\n",
       "      <td>18.854267</td>\n",
       "      <td>14.061706</td>\n",
       "      <td>69.469061</td>\n",
       "      <td>29.502893</td>\n",
       "      <td>14.137144</td>\n",
       "      <td>11.338257</td>\n",
       "      <td>50.467446</td>\n",
       "      <td>24.074710</td>\n",
       "      <td>...</td>\n",
       "      <td>-16.734890</td>\n",
       "      <td>24.933620</td>\n",
       "      <td>30.326730</td>\n",
       "      <td>-20.968594</td>\n",
       "      <td>-44.497814</td>\n",
       "      <td>34.504292</td>\n",
       "      <td>2.392786</td>\n",
       "      <td>-5.287047</td>\n",
       "      <td>-9.325921</td>\n",
       "      <td>-10.403674</td>\n",
       "    </tr>\n",
       "    <tr>\n",
       "      <th>3</th>\n",
       "      <td>-33.915358</td>\n",
       "      <td>43.958494</td>\n",
       "      <td>31.447043</td>\n",
       "      <td>46.660956</td>\n",
       "      <td>45.282869</td>\n",
       "      <td>36.272248</td>\n",
       "      <td>21.264821</td>\n",
       "      <td>17.224021</td>\n",
       "      <td>11.906844</td>\n",
       "      <td>61.503943</td>\n",
       "      <td>...</td>\n",
       "      <td>3.607158</td>\n",
       "      <td>-35.331008</td>\n",
       "      <td>-80.447839</td>\n",
       "      <td>20.339595</td>\n",
       "      <td>24.434966</td>\n",
       "      <td>2.648436</td>\n",
       "      <td>-8.071782</td>\n",
       "      <td>8.838702</td>\n",
       "      <td>24.370320</td>\n",
       "      <td>22.763807</td>\n",
       "    </tr>\n",
       "    <tr>\n",
       "      <th>4</th>\n",
       "      <td>-41.183628</td>\n",
       "      <td>-22.763986</td>\n",
       "      <td>-78.781950</td>\n",
       "      <td>-78.366908</td>\n",
       "      <td>-108.014839</td>\n",
       "      <td>36.297370</td>\n",
       "      <td>-25.435931</td>\n",
       "      <td>-35.893435</td>\n",
       "      <td>-32.836649</td>\n",
       "      <td>-93.935588</td>\n",
       "      <td>...</td>\n",
       "      <td>26.298016</td>\n",
       "      <td>5.090385</td>\n",
       "      <td>25.662896</td>\n",
       "      <td>-17.664913</td>\n",
       "      <td>6.707516</td>\n",
       "      <td>6.608586</td>\n",
       "      <td>-22.462971</td>\n",
       "      <td>14.485307</td>\n",
       "      <td>-15.169543</td>\n",
       "      <td>5.476488</td>\n",
       "    </tr>\n",
       "  </tbody>\n",
       "</table>\n",
       "<p>5 rows × 200 columns</p>\n",
       "</div>"
      ],
      "text/plain": [
       "              1           1.1           1.2           1.3           1.4  \\\n",
       "0  44688.000000  57779.000000  53565.000000  61394.000000  56920.000000   \n",
       "1     -5.740679    -55.257567    -43.808065    -52.993126   -120.941165   \n",
       "2     10.422245     46.662824     18.854267     14.061706     69.469061   \n",
       "3    -33.915358     43.958494     31.447043     46.660956     45.282869   \n",
       "4    -41.183628    -22.763986    -78.781950    -78.366908   -108.014839   \n",
       "\n",
       "            1.5           1.6           1.7           1.8           1.9  \\\n",
       "0  75505.000000  51120.000000  56802.000000  66990.000000  61980.000000   \n",
       "1   -171.138239    -97.384354    -67.152625   -130.208055    -73.415064   \n",
       "2     29.502893     14.137144     11.338257     50.467446     24.074710   \n",
       "3     36.272248     21.264821     17.224021     11.906844     61.503943   \n",
       "4     36.297370    -25.435931    -35.893435    -32.836649    -93.935588   \n",
       "\n",
       "       ...               3.90          3.91          3.92          3.93  \\\n",
       "0      ...       38416.000000  50333.000000  52993.000000  47017.000000   \n",
       "1      ...         -65.066760    -67.085928    -53.092426    -48.396327   \n",
       "2      ...         -16.734890     24.933620     30.326730    -20.968594   \n",
       "3      ...           3.607158    -35.331008    -80.447839     20.339595   \n",
       "4      ...          26.298016      5.090385     25.662896    -17.664913   \n",
       "\n",
       "           3.94          3.95          3.96          3.97          3.98  \\\n",
       "0  54285.000000  54290.000000  53314.000000  49829.000000  59829.000000   \n",
       "1    -32.048649    -57.845401    -41.788340      5.421084    -53.063769   \n",
       "2    -44.497814     34.504292      2.392786     -5.287047     -9.325921   \n",
       "3     24.434966      2.648436     -8.071782      8.838702     24.370320   \n",
       "4      6.707516      6.608586    -22.462971     14.485307    -15.169543   \n",
       "\n",
       "           3.99  \n",
       "0  48975.000000  \n",
       "1     26.541787  \n",
       "2    -10.403674  \n",
       "3     22.763807  \n",
       "4      5.476488  \n",
       "\n",
       "[5 rows x 200 columns]"
      ]
     },
     "execution_count": 435,
     "metadata": {},
     "output_type": "execute_result"
    }
   ],
   "source": [
    "df.head()"
   ]
  },
  {
   "cell_type": "markdown",
   "metadata": {},
   "source": [
    "# Creating Data Set"
   ]
  },
  {
   "cell_type": "code",
   "execution_count": 436,
   "metadata": {},
   "outputs": [
    {
     "name": "stdout",
     "output_type": "stream",
     "text": [
      "(1, 200)\n"
     ]
    }
   ],
   "source": [
    "labels=np.zeros((df.shape[1]))\n",
    "for i,cols in enumerate(df):\n",
    "    lab=int(str(cols).split('.')[0])\n",
    "    if(lab==1):\n",
    "        labels[i]=1 #label 1 for A class\n",
    "    else:\n",
    "        #default label zeros for C class\n",
    "        continue\n",
    "Y=labels.reshape(1,-1)\n",
    "print(Y.shape)"
   ]
  },
  {
   "cell_type": "code",
   "execution_count": 437,
   "metadata": {},
   "outputs": [
    {
     "name": "stdout",
     "output_type": "stream",
     "text": [
      "(392, 200)\n"
     ]
    }
   ],
   "source": [
    "X=df.values\n",
    "mu=np.mean(X,axis=1,keepdims=True)\n",
    "var=np.var(X,axis=1,keepdims=True)\n",
    "X=(X-mu)/var\n",
    "\n",
    "print(X.shape)"
   ]
  },
  {
   "cell_type": "code",
   "execution_count": 438,
   "metadata": {},
   "outputs": [
    {
     "name": "stdout",
     "output_type": "stream",
     "text": [
      "[[ 1.  1.  0.  0.  0.  1.  0.  0.  0.  1.  1.  1.  0.  0.  0.  1.  0.  1.\n",
      "   0.  0.  0.  0.  0.  0.  1.  1.  1.  0.  0.  1.  1.  1.  1.  1.  1.  1.\n",
      "   0.  1.  0.  0.]]\n",
      "[[ 0.  1.  0.  0.  0.  1.  1.  0.  1.  1.  1.  1.  1.  1.  0.  0.  1.  1.\n",
      "   1.  1.  0.  0.  0.  0.  0.  0.  1.  0.  1.  0.  1.  0.  0.  0.  1.  0.\n",
      "   0.  1.  0.  1.]]\n"
     ]
    }
   ],
   "source": [
    "totalExample=X.shape[1]\n",
    "\n",
    "#Shuffling the dataSet to split train/dev/test set\n",
    "permutation=np.random.permutation(totalExample)\n",
    "shufX=X[:,permutation]\n",
    "shufY=Y[:,permutation] #Applying same permutation\n",
    "\n",
    "X_train=shufX[:,0:120] #Later change\n",
    "Y_train=shufY[:,0:120]\n",
    "\n",
    "X_dev=shufX[:,120:160]\n",
    "Y_dev=shufY[:,120:160]\n",
    "\n",
    "X_test=shufX[:,160:200]\n",
    "Y_test=shufY[:,160:200]\n",
    "\n",
    "print (Y_dev)\n",
    "print (Y_test)"
   ]
  },
  {
   "cell_type": "markdown",
   "metadata": {},
   "source": [
    "# Creating the model"
   ]
  },
  {
   "cell_type": "code",
   "execution_count": 439,
   "metadata": {
    "collapsed": true
   },
   "outputs": [],
   "source": [
    "lambd=100\n",
    "net=model(2,[X.shape[0],20,1],\"HE\",(\"relu\",\"sigmoid\"),lambd)"
   ]
  },
  {
   "cell_type": "code",
   "execution_count": 440,
   "metadata": {
    "collapsed": true
   },
   "outputs": [],
   "source": [
    "net.forward_propagate(X_train,Y_train)"
   ]
  },
  {
   "cell_type": "code",
   "execution_count": 441,
   "metadata": {
    "collapsed": true
   },
   "outputs": [],
   "source": [
    "#Z3=net.cache[\"Z2\"]\n",
    "#A3=net.cache[\"A2\"]\n",
    "#print (A3[:,:])"
   ]
  },
  {
   "cell_type": "code",
   "execution_count": 442,
   "metadata": {},
   "outputs": [
    {
     "name": "stdout",
     "output_type": "stream",
     "text": [
      "cost initial : 5.27162365523\n"
     ]
    }
   ],
   "source": [
    "print (\"cost initial :\",net.calculate_cost(Y_train))"
   ]
  },
  {
   "cell_type": "code",
   "execution_count": 443,
   "metadata": {
    "collapsed": true
   },
   "outputs": [],
   "source": [
    "net.back_propagate_model(Y_train)"
   ]
  },
  {
   "cell_type": "code",
   "execution_count": 444,
   "metadata": {},
   "outputs": [
    {
     "name": "stdout",
     "output_type": "stream",
     "text": [
      "difference in grad 1.46523358626e-08\n"
     ]
    }
   ],
   "source": [
    "net.gradient_checking(1e-7,X_train,Y_train)\n",
    "#difference in grad 2.11521206907e-05"
   ]
  },
  {
   "cell_type": "code",
   "execution_count": 445,
   "metadata": {},
   "outputs": [],
   "source": [
    "iteration=500\n",
    "cost=np.zeros((iteration))\n",
    "learningRate=0.01\n",
    "for i in range(iteration):\n",
    "    net.forward_propagate(X_train,Y_train)\n",
    "    cost[i]=net.calculate_cost(Y_train)\n",
    "    net.back_propagate_model(Y_train)\n",
    "    net.update_parameter(learningRate)"
   ]
  },
  {
   "cell_type": "code",
   "execution_count": 446,
   "metadata": {},
   "outputs": [
    {
     "data": {
      "image/png": "[encoded data removed]",
      "text/plain": [
       "<matplotlib.figure.Figure at 0x7f1a7213c710>"
      ]
     },
     "metadata": {},
     "output_type": "display_data"
    }
   ],
   "source": [
    "t=np.arange(0,iteration)\n",
    "plt.plot(t,cost)\n",
    "plt.xlabel(\"Number of Iteration\")\n",
    "plt.ylabel(\"Cost\")\n",
    "plt.title(\"Learning Rate \"+str(learningRate))\n",
    "plt.show()"
   ]
  },
  {
   "cell_type": "code",
   "execution_count": null,
   "metadata": {
    "collapsed": true
   },
   "outputs": [],
   "source": []
  },
  {
   "cell_type": "code",
   "execution_count": 447,
   "metadata": {},
   "outputs": [],
   "source": [
    "#Calculating train set Error.\n",
    "net.forward_propagate(X_train,Y_train)\n",
    "Y_hat=net.cache[\"A\"+str(net.layers)]\n",
    "prediction=Y_hat>0.5\n",
    "accuracy=prediction==Y_train\n",
    "\n",
    "count=0\n",
    "for i in range(Y_train.shape[1]):\n",
    "    count=count+accuracy[0,i]\n",
    "train_accuracy=count/Y_train.shape[1]*100;"
   ]
  },
  {
   "cell_type": "code",
   "execution_count": 448,
   "metadata": {},
   "outputs": [
    {
     "name": "stdout",
     "output_type": "stream",
     "text": [
      "Dev Accuracy: 82.5\n",
      "recall      : 80.95238095238095\n",
      "precision   : 85.0\n"
     ]
    }
   ],
   "source": [
    "#Calcuating Dev set accuracy.\n",
    "net.forward_propagate(X_dev,Y_dev)\n",
    "Y_hat=net.cache[\"A\"+str(net.layers)]\n",
    "prediction=Y_hat>0.5\n",
    "accuracy=prediction==Y_dev\n",
    "#print (\"Actual Labels: \",Y_dev)\n",
    "#print (\"Prediction   : \",prediction)\n",
    "#print (\"Accuracy     : \",accuracy)\n",
    "count=0\n",
    "y_Ptot=0\n",
    "y_Ptru=0\n",
    "y_Rtot=0\n",
    "y_Rtru=0\n",
    "#Current precision and recall of A. EDIT 1\n",
    "for i in range(Y_dev.shape[1]):\n",
    "    count=count+accuracy[0,i]\n",
    "    if(Y_dev[0,i]==0):#Recall is our normal accuracy\n",
    "        y_Rtot=y_Rtot+1\n",
    "        if(prediction[0,i]==0):\n",
    "            y_Rtru=y_Rtru+1\n",
    "    if(prediction[0,i]==0):#Precision is out of prefict as C how many are actually c.\n",
    "        y_Ptot=y_Ptot+1\n",
    "        if(Y_dev[0,i]==0):\n",
    "            y_Ptru=y_Ptru+1\n",
    "            \n",
    "dev_accuracy=count/Y_dev.shape[1]*100;\n",
    "recall=y_Rtru/y_Rtot*100\n",
    "precision=y_Ptru/y_Ptot*100\n",
    "\n",
    "print (\"Dev Accuracy:\",dev_accuracy)\n",
    "print (\"recall      :\",recall)\n",
    "print (\"precision   :\",precision)"
   ]
  },
  {
   "cell_type": "code",
   "execution_count": null,
   "metadata": {
    "collapsed": true
   },
   "outputs": [],
   "source": []
  },
  {
   "cell_type": "code",
   "execution_count": 449,
   "metadata": {},
   "outputs": [
    {
     "name": "stdout",
     "output_type": "stream",
     "text": [
      "Hyperparameter(lambda) :  100\n",
      "Training Accuracy :  100.0\n",
      "Development Accuracy:  :  82.5\n"
     ]
    }
   ],
   "source": [
    "print (\"Hyperparameter(lambda) : \",lambd)\n",
    "print (\"Training Accuracy : \",train_accuracy)\n",
    "print (\"Development Accuracy:  : \",dev_accuracy)"
   ]
  },
  {
   "cell_type": "code",
   "execution_count": null,
   "metadata": {
    "collapsed": true
   },
   "outputs": [],
   "source": []
  }
 ],
 "metadata": {
  "kernelspec": {
   "display_name": "Python 3",
   "language": "python",
   "name": "python3"
  },
  "language_info": {
   "codemirror_mode": {
    "name": "ipython",
    "version": 3
   },
   "file_extension": ".py",
   "mimetype": "text/x-python",
   "name": "python",
   "nbconvert_exporter": "python",
   "pygments_lexer": "ipython3",
   "version": "3.6.2"
  }
 },
 "nbformat": 4,
 "nbformat_minor": 2
}
