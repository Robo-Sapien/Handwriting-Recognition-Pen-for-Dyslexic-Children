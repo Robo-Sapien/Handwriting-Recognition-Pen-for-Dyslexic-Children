{
 "cells": [
  {
   "cell_type": "code",
   "execution_count": 1,
   "metadata": {
    "collapsed": false
   },
   "outputs": [],
   "source": [
    "%matplotlib inline\n",
    "\n",
    "import pandas as pd\n",
    "import matplotlib.pyplot as plt\n",
    "import seaborn as sns"
   ]
  },
  {
   "cell_type": "code",
   "execution_count": 2,
   "metadata": {
    "collapsed": true
   },
   "outputs": [],
   "source": [
    "#Read in white wine data\n",
    "white = pd.read_csv(\"http://archive.ics.uci.edu/ml/machine-learning-databases/wine-quality/winequality-white.csv\", sep=';')\n",
    "\n",
    "# Read in red wine data \n",
    "red = pd.read_csv(\"http://archive.ics.uci.edu/ml/machine-learning-databases/wine-quality/winequality-red.csv\", sep=';')"
   ]
  },
  {
   "cell_type": "code",
   "execution_count": null,
   "metadata": {
    "collapsed": false,
    "scrolled": true
   },
   "outputs": [],
   "source": [
    "#print (white.info())\n",
    "#print (red.info())"
   ]
  },
  {
   "cell_type": "code",
   "execution_count": null,
   "metadata": {
    "collapsed": false,
    "scrolled": false
   },
   "outputs": [],
   "source": [
    "#red.head()\n",
    "#red.tail()\n",
    "#red.sample(5)\n",
    "#red.describe()\n",
    "#pd.isnull(red)"
   ]
  },
  {
   "cell_type": "code",
   "execution_count": null,
   "metadata": {
    "collapsed": false,
    "scrolled": true
   },
   "outputs": [],
   "source": [
    "#white.head()\n",
    "#white.tail()\n",
    "#white.sample(5)\n",
    "#white.describe()\n",
    "#pd.isnull(white)"
   ]
  },
  {
   "cell_type": "code",
   "execution_count": 3,
   "metadata": {
    "collapsed": false
   },
   "outputs": [
    {
     "data": {
      "image/png": "[encoded data removed]",
      "text/plain": [
       "<matplotlib.figure.Figure at 0xa139f28>"
      ]
     },
     "metadata": {},
     "output_type": "display_data"
    }
   ],
   "source": [
    "#Visualizing the data\n",
    "fig,ax=plt.subplots(1,2)\n",
    "ax[0].hist(red.alcohol,10,facecolor='red',alpha=0.5,label=\"Red Wine\")\n",
    "ax[1].hist(white.alcohol,10,facecolor='white',ec=\"black\",lw=0.5,alpha=0.5,label=\"White wine\")\n",
    "\n",
    "fig.subplots_adjust(left=0, right=1, bottom=0, top=0.5, hspace=0.05, wspace=1)\n",
    "ax[0].set_ylim([0, 1000])\n",
    "ax[0].set_xlabel(\"Alcohol in % Vol\")\n",
    "ax[0].set_ylabel(\"Frequency\")\n",
    "ax[1].set_xlabel(\"Alcohol in % Vol\")\n",
    "ax[1].set_ylabel(\"Frequency\")\n",
    "fig.suptitle(\"Distribution of Alcohol in % Vol\")\n",
    "plt.show()"
   ]
  },
  {
   "cell_type": "code",
   "execution_count": 5,
   "metadata": {
    "collapsed": false
   },
   "outputs": [
    {
     "data": {
      "text/html": [
       "<div>\n",
       "<table border=\"1\" class=\"dataframe\">\n",
       "  <thead>\n",
       "    <tr style=\"text-align: right;\">\n",
       "      <th></th>\n",
       "      <th>fixed acidity</th>\n",
       "      <th>volatile acidity</th>\n",
       "      <th>citric acid</th>\n",
       "      <th>residual sugar</th>\n",
       "      <th>chlorides</th>\n",
       "      <th>free sulfur dioxide</th>\n",
       "      <th>total sulfur dioxide</th>\n",
       "      <th>density</th>\n",
       "      <th>pH</th>\n",
       "      <th>sulphates</th>\n",
       "      <th>alcohol</th>\n",
       "      <th>quality</th>\n",
       "      <th>type</th>\n",
       "    </tr>\n",
       "  </thead>\n",
       "  <tbody>\n",
       "    <tr>\n",
       "      <th>1012</th>\n",
       "      <td>7.7</td>\n",
       "      <td>1.005</td>\n",
       "      <td>0.15</td>\n",
       "      <td>2.10</td>\n",
       "      <td>0.102</td>\n",
       "      <td>11.0</td>\n",
       "      <td>32.0</td>\n",
       "      <td>0.99604</td>\n",
       "      <td>3.23</td>\n",
       "      <td>0.48</td>\n",
       "      <td>10.0</td>\n",
       "      <td>5</td>\n",
       "      <td>1</td>\n",
       "    </tr>\n",
       "    <tr>\n",
       "      <th>5733</th>\n",
       "      <td>6.8</td>\n",
       "      <td>0.270</td>\n",
       "      <td>0.28</td>\n",
       "      <td>7.80</td>\n",
       "      <td>0.038</td>\n",
       "      <td>26.0</td>\n",
       "      <td>89.0</td>\n",
       "      <td>0.99150</td>\n",
       "      <td>3.24</td>\n",
       "      <td>0.34</td>\n",
       "      <td>12.5</td>\n",
       "      <td>6</td>\n",
       "      <td>0</td>\n",
       "    </tr>\n",
       "    <tr>\n",
       "      <th>2513</th>\n",
       "      <td>8.0</td>\n",
       "      <td>0.320</td>\n",
       "      <td>0.26</td>\n",
       "      <td>1.20</td>\n",
       "      <td>0.050</td>\n",
       "      <td>11.5</td>\n",
       "      <td>88.0</td>\n",
       "      <td>0.99460</td>\n",
       "      <td>3.24</td>\n",
       "      <td>0.37</td>\n",
       "      <td>9.5</td>\n",
       "      <td>4</td>\n",
       "      <td>0</td>\n",
       "    </tr>\n",
       "    <tr>\n",
       "      <th>2348</th>\n",
       "      <td>7.3</td>\n",
       "      <td>0.300</td>\n",
       "      <td>0.42</td>\n",
       "      <td>7.35</td>\n",
       "      <td>0.025</td>\n",
       "      <td>51.0</td>\n",
       "      <td>175.0</td>\n",
       "      <td>0.99280</td>\n",
       "      <td>3.04</td>\n",
       "      <td>0.32</td>\n",
       "      <td>11.4</td>\n",
       "      <td>6</td>\n",
       "      <td>0</td>\n",
       "    </tr>\n",
       "    <tr>\n",
       "      <th>2198</th>\n",
       "      <td>6.9</td>\n",
       "      <td>0.190</td>\n",
       "      <td>0.40</td>\n",
       "      <td>1.40</td>\n",
       "      <td>0.036</td>\n",
       "      <td>14.0</td>\n",
       "      <td>55.0</td>\n",
       "      <td>0.99090</td>\n",
       "      <td>3.08</td>\n",
       "      <td>0.68</td>\n",
       "      <td>11.5</td>\n",
       "      <td>7</td>\n",
       "      <td>0</td>\n",
       "    </tr>\n",
       "    <tr>\n",
       "      <th>3576</th>\n",
       "      <td>8.4</td>\n",
       "      <td>0.200</td>\n",
       "      <td>0.27</td>\n",
       "      <td>6.30</td>\n",
       "      <td>0.048</td>\n",
       "      <td>30.0</td>\n",
       "      <td>143.0</td>\n",
       "      <td>0.99660</td>\n",
       "      <td>3.25</td>\n",
       "      <td>0.50</td>\n",
       "      <td>9.1</td>\n",
       "      <td>6</td>\n",
       "      <td>0</td>\n",
       "    </tr>\n",
       "    <tr>\n",
       "      <th>5882</th>\n",
       "      <td>6.0</td>\n",
       "      <td>0.200</td>\n",
       "      <td>0.26</td>\n",
       "      <td>6.80</td>\n",
       "      <td>0.049</td>\n",
       "      <td>22.0</td>\n",
       "      <td>93.0</td>\n",
       "      <td>0.99280</td>\n",
       "      <td>3.15</td>\n",
       "      <td>0.42</td>\n",
       "      <td>11.0</td>\n",
       "      <td>6</td>\n",
       "      <td>0</td>\n",
       "    </tr>\n",
       "  </tbody>\n",
       "</table>\n",
       "</div>"
      ],
      "text/plain": [
       "      fixed acidity  volatile acidity  citric acid  residual sugar  chlorides  \\\n",
       "1012            7.7             1.005         0.15            2.10      0.102   \n",
       "5733            6.8             0.270         0.28            7.80      0.038   \n",
       "2513            8.0             0.320         0.26            1.20      0.050   \n",
       "2348            7.3             0.300         0.42            7.35      0.025   \n",
       "2198            6.9             0.190         0.40            1.40      0.036   \n",
       "3576            8.4             0.200         0.27            6.30      0.048   \n",
       "5882            6.0             0.200         0.26            6.80      0.049   \n",
       "\n",
       "      free sulfur dioxide  total sulfur dioxide  density    pH  sulphates  \\\n",
       "1012                 11.0                  32.0  0.99604  3.23       0.48   \n",
       "5733                 26.0                  89.0  0.99150  3.24       0.34   \n",
       "2513                 11.5                  88.0  0.99460  3.24       0.37   \n",
       "2348                 51.0                 175.0  0.99280  3.04       0.32   \n",
       "2198                 14.0                  55.0  0.99090  3.08       0.68   \n",
       "3576                 30.0                 143.0  0.99660  3.25       0.50   \n",
       "5882                 22.0                  93.0  0.99280  3.15       0.42   \n",
       "\n",
       "      alcohol  quality  type  \n",
       "1012     10.0        5     1  \n",
       "5733     12.5        6     0  \n",
       "2513      9.5        4     0  \n",
       "2348     11.4        6     0  \n",
       "2198     11.5        7     0  \n",
       "3576      9.1        6     0  \n",
       "5882     11.0        6     0  "
      ]
     },
     "execution_count": 5,
     "metadata": {},
     "output_type": "execute_result"
    }
   ],
   "source": [
    "#Adding the Wine type Lable in in both red wine dataset and white wine and concatenating them to form one big training set.\n",
    "\n",
    "red['type']=1\n",
    "white['type']=0\n",
    "wines=red.append(white,ignore_index=True)\n",
    "wines.sample(7)"
   ]
  },
  {
   "cell_type": "code",
   "execution_count": 6,
   "metadata": {
    "collapsed": false
   },
   "outputs": [
    {
     "ename": "AttributeError",
     "evalue": "'module' object has no attribute 'plt'",
     "output_type": "error",
     "traceback": [
      "\u001b[1;31m---------------------------------------------------------------------------\u001b[0m",
      "\u001b[1;31mAttributeError\u001b[0m                            Traceback (most recent call last)",
      "\u001b[1;32m<ipython-input-6-20310f4631c0>\u001b[0m in \u001b[0;36m<module>\u001b[1;34m()\u001b[0m\n\u001b[0;32m      1\u001b[0m \u001b[0mcorr\u001b[0m\u001b[1;33m=\u001b[0m\u001b[0mwines\u001b[0m\u001b[1;33m.\u001b[0m\u001b[0mcorr\u001b[0m\u001b[1;33m(\u001b[0m\u001b[1;33m)\u001b[0m\u001b[1;33m\u001b[0m\u001b[0m\n\u001b[0;32m      2\u001b[0m \u001b[0msns\u001b[0m\u001b[1;33m.\u001b[0m\u001b[0mheatmap\u001b[0m\u001b[1;33m(\u001b[0m\u001b[0mcorr\u001b[0m\u001b[1;33m,\u001b[0m\u001b[0mxticklabels\u001b[0m\u001b[1;33m=\u001b[0m\u001b[0mcorr\u001b[0m\u001b[1;33m.\u001b[0m\u001b[0mcolumns\u001b[0m\u001b[1;33m.\u001b[0m\u001b[0mvalues\u001b[0m\u001b[1;33m,\u001b[0m\u001b[0myticklabels\u001b[0m\u001b[1;33m=\u001b[0m\u001b[0mcorr\u001b[0m\u001b[1;33m.\u001b[0m\u001b[0mcolumns\u001b[0m\u001b[1;33m.\u001b[0m\u001b[0mvalues\u001b[0m\u001b[1;33m)\u001b[0m\u001b[1;33m\u001b[0m\u001b[0m\n\u001b[1;32m----> 3\u001b[1;33m \u001b[0msns\u001b[0m\u001b[1;33m.\u001b[0m\u001b[0mplt\u001b[0m\u001b[1;33m.\u001b[0m\u001b[0mshow\u001b[0m\u001b[1;33m(\u001b[0m\u001b[1;33m)\u001b[0m\u001b[1;33m\u001b[0m\u001b[0m\n\u001b[0m",
      "\u001b[1;31mAttributeError\u001b[0m: 'module' object has no attribute 'plt'"
     ]
    },
    {
     "data": {
      "image/png": "[encoded data removed]",
      "text/plain": [
       "<matplotlib.figure.Figure at 0x9e42278>"
      ]
     },
     "metadata": {},
     "output_type": "display_data"
    }
   ],
   "source": [
    "#Watching coorelation between variable in dataset.\n",
    "corr=wines.corr()\n",
    "sns.heatmap(corr,xticklabels=corr.columns.values,yticklabels=corr.columns.values)\n",
    "sns.plt.show()"
   ]
  },
  {
   "cell_type": "code",
   "execution_count": null,
   "metadata": {
    "collapsed": true
   },
   "outputs": [],
   "source": []
  }
 ],
 "metadata": {
  "anaconda-cloud": {},
  "kernelspec": {
   "display_name": "Python [Root]",
   "language": "python",
   "name": "Python [Root]"
  },
  "language_info": {
   "codemirror_mode": {
    "name": "ipython",
    "version": 2
   },
   "file_extension": ".py",
   "mimetype": "text/x-python",
   "name": "python",
   "nbconvert_exporter": "python",
   "pygments_lexer": "ipython2",
   "version": "2.7.12"
  }
 },
 "nbformat": 4,
 "nbformat_minor": 0
}
