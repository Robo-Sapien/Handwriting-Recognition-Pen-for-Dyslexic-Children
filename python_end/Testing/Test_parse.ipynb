{
 "cells": [
  {
   "cell_type": "code",
   "execution_count": 7,
   "metadata": {
    "collapsed": true
   },
   "outputs": [],
   "source": [
    "import pandas as pd\n",
    "import numpy as np"
   ]
  },
  {
   "cell_type": "code",
   "execution_count": 9,
   "metadata": {
    "collapsed": false
   },
   "outputs": [],
   "source": [
    "dataFileHand=open('a1.txt','r')"
   ]
  },
  {
   "cell_type": "code",
   "execution_count": 10,
   "metadata": {
    "collapsed": false
   },
   "outputs": [],
   "source": [
    "def parseTimePoint(timepoint,time):\n",
    "    tagTup=['w','x','y','z','X','Y','Z','t']\n",
    "    iteratable=[['timePoint'+' '+str(time)],tagTup]\n",
    "    indexTimepoint=pd.MultiIndex.from_product(iteratable)\n",
    "    #Have to make it one dimensional for converting it to Series\n",
    "    value=np.empty((8),dtype=float)\n",
    "\n",
    "    timepoint=timepoint.strip()\n",
    "    try:\n",
    "        timepoint=timepoint.split('w')\n",
    "        timepoint=timepoint[1].split('x')\n",
    "        value[0]=float(timepoint[0])\n",
    "\n",
    "        timepoint=timepoint[1].split('y')\n",
    "        value[1]=float(timepoint[0])\n",
    "\n",
    "        timepoint=timepoint[1].split('z')\n",
    "        value[2]=float(timepoint[0])\n",
    "\n",
    "        timepoint=timepoint[1].split('X')\n",
    "        value[3]=float(timepoint[0])\n",
    "\n",
    "        timepoint=timepoint[1].split('Y')\n",
    "        value[4]=float(timepoint[0])\n",
    "\n",
    "        timepoint=timepoint[1].split('Z')\n",
    "        value[5]=float(timepoint[0])\n",
    "\n",
    "        timepoint=timepoint[1].split('t')\n",
    "        value[6]=float(timepoint[0])\n",
    "\n",
    "        timepoint=timepoint[1].split('b')\n",
    "        value[7]=float(timepoint[0])\n",
    "    except:\n",
    "        return 0\n",
    "    series=pd.Series(value,index=indexTimepoint)\n",
    "    return series\n"
   ]
  },
  {
   "cell_type": "code",
   "execution_count": 18,
   "metadata": {
    "collapsed": false
   },
   "outputs": [],
   "source": [
    "timeIndex=0\n",
    "exIndex=0\n",
    "dfDataset=pd.DataFrame()\n",
    "dfEx=pd.DataFrame()\n",
    "for timepoint in dataFileHand:\n",
    "    series=parseTimePoint(timepoint,timeIndex)\n",
    "    print series\n",
    "    if(timepoint==0):\n",
    "        continue\n",
    "    else:\n",
    "        \n",
    "        df=pd.DataFrame(series,columns=[str(exIndex)])\n",
    "        dfEx=pd.concat([dfEx,df],axis=0)\n",
    "    if(timepoint==\"END\"):\n",
    "        dfDataset=pd.concat([dfDataset,dfEx],axis=1,join_axes=[dfDataset.index])\n",
    "        exIndex=exIndex+1\n",
    "\n"
   ]
  },
  {
   "cell_type": "code",
   "execution_count": 17,
   "metadata": {
    "collapsed": false
   },
   "outputs": [
    {
     "data": {
      "text/html": [
       "<div>\n",
       "<style>\n",
       "    .dataframe thead tr:only-child th {\n",
       "        text-align: right;\n",
       "    }\n",
       "\n",
       "    .dataframe thead th {\n",
       "        text-align: left;\n",
       "    }\n",
       "\n",
       "    .dataframe tbody tr th {\n",
       "        vertical-align: top;\n",
       "    }\n",
       "</style>\n",
       "<table border=\"1\" class=\"dataframe\">\n",
       "  <thead>\n",
       "    <tr style=\"text-align: right;\">\n",
       "      <th></th>\n",
       "    </tr>\n",
       "  </thead>\n",
       "  <tbody>\n",
       "  </tbody>\n",
       "</table>\n",
       "</div>"
      ],
      "text/plain": [
       "Empty DataFrame\n",
       "Columns: []\n",
       "Index: []"
      ]
     },
     "execution_count": 17,
     "metadata": {},
     "output_type": "execute_result"
    }
   ],
   "source": [
    "dfEx"
   ]
  },
  {
   "cell_type": "code",
   "execution_count": null,
   "metadata": {
    "collapsed": true
   },
   "outputs": [],
   "source": []
  }
 ],
 "metadata": {
  "kernelspec": {
   "display_name": "Python [Root]",
   "language": "python",
   "name": "Python [Root]"
  },
  "language_info": {
   "codemirror_mode": {
    "name": "ipython",
    "version": 2
   },
   "file_extension": ".py",
   "mimetype": "text/x-python",
   "name": "python",
   "nbconvert_exporter": "python",
   "pygments_lexer": "ipython2",
   "version": "2.7.12"
  }
 },
 "nbformat": 4,
 "nbformat_minor": 0
}
